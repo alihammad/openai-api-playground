{
 "cells": [
  {
   "cell_type": "code",
   "execution_count": 1,
   "id": "95350591",
   "metadata": {},
   "outputs": [],
   "source": [
    "import openai\n",
    "from dotenv import load_dotenv"
   ]
  },
  {
   "cell_type": "code",
   "execution_count": 2,
   "id": "e03e782d",
   "metadata": {},
   "outputs": [
    {
     "data": {
      "text/plain": [
       "True"
      ]
     },
     "execution_count": 2,
     "metadata": {},
     "output_type": "execute_result"
    }
   ],
   "source": [
    "# Load environment variables from .env file\n",
    "load_dotenv()"
   ]
  },
  {
   "cell_type": "code",
   "execution_count": 3,
   "id": "f3158fb7",
   "metadata": {},
   "outputs": [],
   "source": [
    "client = openai.OpenAI()  # Uses your OPENAI_API_KEY from environment"
   ]
  },
  {
   "cell_type": "code",
   "execution_count": 4,
   "id": "7fe4708c",
   "metadata": {},
   "outputs": [],
   "source": [
    "# Load audio file\n",
    "audio_file= open(\"PodcastingHouse-20190103-TheCaseOfCharlesDexterWard.mp3\", \"rb\")"
   ]
  },
  {
   "cell_type": "code",
   "execution_count": 5,
   "id": "b3d24991",
   "metadata": {},
   "outputs": [],
   "source": [
    "# Transcribe\n",
    "transcription = client.audio.transcriptions.create(\n",
    "  model=\"whisper-1\", \n",
    "  file=audio_file\n",
    ")"
   ]
  },
  {
   "cell_type": "code",
   "execution_count": 6,
   "id": "7007aff8",
   "metadata": {},
   "outputs": [
    {
     "data": {
      "text/plain": [
       "\"This is the BBC. Hello and welcome to Podcasting House. We're back. It's Eli. I'm with Rhiann. Hello. Hello. Now, if you've never listened to the podcast before, this is what we do. We play you an episode of a new BBC podcast. And if you like it, you can go search for it in BBC Sounds and subscribe. Now, what are we about to listen to today, Rhiann? We're listening to The Case of Dexter Ward by H.P. Lovecraft. Yeah, get in. I know. I'm overexcited about this.\""
      ]
     },
     "execution_count": 6,
     "metadata": {},
     "output_type": "execute_result"
    }
   ],
   "source": [
    "# Print the transcribed text\n",
    "transcription.text"
   ]
  }
 ],
 "metadata": {
  "kernelspec": {
   "display_name": ".venv",
   "language": "python",
   "name": "python3"
  },
  "language_info": {
   "codemirror_mode": {
    "name": "ipython",
    "version": 3
   },
   "file_extension": ".py",
   "mimetype": "text/x-python",
   "name": "python",
   "nbconvert_exporter": "python",
   "pygments_lexer": "ipython3",
   "version": "3.12.10"
  }
 },
 "nbformat": 4,
 "nbformat_minor": 5
}
